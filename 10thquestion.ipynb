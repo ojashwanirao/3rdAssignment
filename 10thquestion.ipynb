{
 "cells": [
  {
   "cell_type": "code",
   "execution_count": 1,
   "id": "753bc335-d610-4ae2-b1ac-eb377e0c43c2",
   "metadata": {},
   "outputs": [],
   "source": [
    "#10. Create a Python program that uses 'filter()' to remove all the vowels from a given sring"
   ]
  },
  {
   "cell_type": "code",
   "execution_count": 2,
   "id": "8c6d3d96-aee0-4128-9fe6-dd67e2c3e442",
   "metadata": {},
   "outputs": [
    {
     "name": "stdout",
     "output_type": "stream",
     "text": [
      "Original String: Hello, World!\n",
      "String without Vowels: Hll, Wrld!\n"
     ]
    }
   ],
   "source": [
    "def remove_vowels(char):\n",
    "    vowels = 'aeiouAEIOU'\n",
    "    return char not in vowels\n",
    "\n",
    "input_string = \"Hello, World!\"\n",
    "\n",
    "filtered_string = ''.join(filter(remove_vowels, input_string))\n",
    "\n",
    "print(\"Original String:\", input_string)\n",
    "print(\"String without Vowels:\", filtered_string)"
   ]
  }
 ],
 "metadata": {
  "kernelspec": {
   "display_name": "Python 3 (ipykernel)",
   "language": "python",
   "name": "python3"
  },
  "language_info": {
   "codemirror_mode": {
    "name": "ipython",
    "version": 3
   },
   "file_extension": ".py",
   "mimetype": "text/x-python",
   "name": "python",
   "nbconvert_exporter": "python",
   "pygments_lexer": "ipython3",
   "version": "3.10.8"
  }
 },
 "nbformat": 4,
 "nbformat_minor": 5
}
