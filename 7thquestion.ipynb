{
 "cells": [
  {
   "cell_type": "code",
   "execution_count": 4,
   "id": "a4573c76-376f-4331-aac1-9e029b49a9ae",
   "metadata": {},
   "outputs": [],
   "source": [
    "#7. Implement a generator function that reads a file line by line and yields each line as a string"
   ]
  },
  {
   "cell_type": "code",
   "execution_count": 15,
   "id": "0571ee32-7705-47f8-b683-2d698fd1169a",
   "metadata": {},
   "outputs": [],
   "source": [
    "def read_file_line_by_line(file_path):\n",
    "    with open(file_path, 'r') as file:\n",
    "        for line in file:\n",
    "            yield line.strip()  "
   ]
  },
  {
   "cell_type": "code",
   "execution_count": 9,
   "id": "ab341f41-b3c9-4f87-a849-f71d148280e8",
   "metadata": {},
   "outputs": [],
   "source": [
    "file_path = \"work/Poem.docx\""
   ]
  },
  {
   "cell_type": "code",
   "execution_count": 12,
   "id": "06a85e1e-0bb5-4e1c-be67-d70ad03292e9",
   "metadata": {},
   "outputs": [
    {
     "name": "stdout",
     "output_type": "stream",
     "text": [
      "work/Poem.docx\n"
     ]
    }
   ],
   "source": [
    "print(file_path)"
   ]
  }
 ],
 "metadata": {
  "kernelspec": {
   "display_name": "Python 3 (ipykernel)",
   "language": "python",
   "name": "python3"
  },
  "language_info": {
   "codemirror_mode": {
    "name": "ipython",
    "version": 3
   },
   "file_extension": ".py",
   "mimetype": "text/x-python",
   "name": "python",
   "nbconvert_exporter": "python",
   "pygments_lexer": "ipython3",
   "version": "3.10.8"
  }
 },
 "nbformat": 4,
 "nbformat_minor": 5
}
