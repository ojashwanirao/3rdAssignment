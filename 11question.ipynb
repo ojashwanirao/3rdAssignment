{
 "cells": [
  {
   "cell_type": "code",
   "execution_count": 7,
   "id": "f6c6a3c8-22a0-4d7b-91c1-462975a763ad",
   "metadata": {},
   "outputs": [],
   "source": [
    "#11. Imagine an accounting routine used in a book shop. It works on a list with sublists, which look like this:\n",
    "# Order Number       Book title and Author                 Quantity\n",
    "# 34587              Lerning Python, Mark Lutz             4\n",
    "# 98762              Programming Python, Mark Lutz         5 \n",
    "# 77226              Head first Python, Paul Barry         3 \n",
    "# 88112              Einfuhrung in Python3, Brend Klein    3"
   ]
  },
  {
   "cell_type": "code",
   "execution_count": 5,
   "id": "0789d86b-bbad-46ad-8a5d-17d1900877d5",
   "metadata": {},
   "outputs": [],
   "source": [
    "# Write a Python program, which returns a list with 2-tuples. Each tuple consists of the order number and the product of the price per item and the quantity. The product should be increased by 10, -€ if the value of the order is smaller than 100,00 €.\n",
    "# Write a Python program using lambda and map."
   ]
  },
  {
   "cell_type": "code",
   "execution_count": 9,
   "id": "ce01ed56-6726-43b6-ad50-dbfdbfcc99c2",
   "metadata": {},
   "outputs": [
    {
     "name": "stdout",
     "output_type": "stream",
     "text": [
      "Order Number\tProduct\n",
      "34587 \t 182.0\n",
      "98762 \t 277.5\n",
      "77226 \t 106.5\n",
      "88112 \t 86.5\n"
     ]
    }
   ],
   "source": [
    "orders = [\n",
    "    [34587, 'Learning Python', 'Mark Lutz', 4, 45.50],\n",
    "    [98762, 'Programming Python', 'Mark Lutz', 5, 55.50],\n",
    "    [77226, 'Head first Python', 'Paul Barry', 3, 35.50],\n",
    "    [88112, 'Einfuhrung in Python3', 'Brend Klein', 3, 25.50]\n",
    "]\n",
    "\n",
    "product = lambda x: x[4] * x[3] + 10 if x[4] * x[3] < 100 else x[4] * x[3]\n",
    "\n",
    "result = list(map(lambda x: (x[0], product(x)), orders))\n",
    "\n",
    "print(\"Order Number\\tProduct\")\n",
    "for order, product in result:\n",
    "    print(order, \"\\t\", product)"
   ]
  }
 ],
 "metadata": {
  "kernelspec": {
   "display_name": "Python 3 (ipykernel)",
   "language": "python",
   "name": "python3"
  },
  "language_info": {
   "codemirror_mode": {
    "name": "ipython",
    "version": 3
   },
   "file_extension": ".py",
   "mimetype": "text/x-python",
   "name": "python",
   "nbconvert_exporter": "python",
   "pygments_lexer": "ipython3",
   "version": "3.10.8"
  }
 },
 "nbformat": 4,
 "nbformat_minor": 5
}
