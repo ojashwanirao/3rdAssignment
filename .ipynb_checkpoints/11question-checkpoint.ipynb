{
 "cells": [
  {
   "cell_type": "code",
   "execution_count": 7,
   "id": "f6c6a3c8-22a0-4d7b-91c1-462975a763ad",
   "metadata": {},
   "outputs": [],
   "source": [
    "#11. Imagine an accounting routine used in a book shop. It works on a list with sublists, which look like this:\n",
    "# Order Number       Book title and Author                 Quantity\n",
    "# 34587              Lerning Python, Mark Lutz             4\n",
    "# 98762              Programming Python, Mark Lutz         5 \n",
    "# 77226              Head first Python, Paul Barry         3 \n",
    "# 88112              Einfuhrung in Python3, Brend Klein    3"
   ]
  },
  {
   "cell_type": "code",
   "execution_count": 5,
   "id": "0789d86b-bbad-46ad-8a5d-17d1900877d5",
   "metadata": {},
   "outputs": [],
   "source": [
    "# Write a Python program, which returns a list with 2-tuples. Each tuple consists of the order number and the product of the price per item and the quantity. The product should be increased by 10, -€ if the value of the order is smaller than 100,00 €.\n",
    "# Write a Python program using lambda and map."
   ]
  },
  {
   "cell_type": "code",
   "execution_count": 8,
   "id": "ce01ed56-6726-43b6-ad50-dbfdbfcc99c2",
   "metadata": {},
   "outputs": [
    {
     "ename": "TypeError",
     "evalue": "<lambda>() missing 3 required positional arguments: 'order', 'price', and 'quantity'",
     "output_type": "error",
     "traceback": [
      "\u001b[0;31m---------------------------------------------------------------------------\u001b[0m",
      "\u001b[0;31mTypeError\u001b[0m                                 Traceback (most recent call last)",
      "Cell \u001b[0;32mIn[8], line 10\u001b[0m\n\u001b[1;32m      1\u001b[0m orders \u001b[38;5;241m=\u001b[39m [\n\u001b[1;32m      2\u001b[0m     [\u001b[38;5;241m34587\u001b[39m, \u001b[38;5;124m'\u001b[39m\u001b[38;5;124mLearning Python\u001b[39m\u001b[38;5;124m'\u001b[39m, \u001b[38;5;124m'\u001b[39m\u001b[38;5;124mMark Lutz\u001b[39m\u001b[38;5;124m'\u001b[39m, \u001b[38;5;241m4\u001b[39m, \u001b[38;5;241m45.50\u001b[39m],\n\u001b[1;32m      3\u001b[0m     [\u001b[38;5;241m98762\u001b[39m, \u001b[38;5;124m'\u001b[39m\u001b[38;5;124mProgramming Python\u001b[39m\u001b[38;5;124m'\u001b[39m, \u001b[38;5;124m'\u001b[39m\u001b[38;5;124mMark Lutz\u001b[39m\u001b[38;5;124m'\u001b[39m, \u001b[38;5;241m5\u001b[39m, \u001b[38;5;241m55.50\u001b[39m],\n\u001b[1;32m      4\u001b[0m     [\u001b[38;5;241m77226\u001b[39m, \u001b[38;5;124m'\u001b[39m\u001b[38;5;124mHead first Python\u001b[39m\u001b[38;5;124m'\u001b[39m, \u001b[38;5;124m'\u001b[39m\u001b[38;5;124mPaul Barry\u001b[39m\u001b[38;5;124m'\u001b[39m, \u001b[38;5;241m3\u001b[39m, \u001b[38;5;241m35.50\u001b[39m],\n\u001b[1;32m      5\u001b[0m     [\u001b[38;5;241m88112\u001b[39m, \u001b[38;5;124m'\u001b[39m\u001b[38;5;124mEinfuhrung in Python3\u001b[39m\u001b[38;5;124m'\u001b[39m, \u001b[38;5;124m'\u001b[39m\u001b[38;5;124mBrend Klein\u001b[39m\u001b[38;5;124m'\u001b[39m, \u001b[38;5;241m3\u001b[39m, \u001b[38;5;241m25.50\u001b[39m]\n\u001b[1;32m      6\u001b[0m ]\n\u001b[1;32m      8\u001b[0m product \u001b[38;5;241m=\u001b[39m \u001b[38;5;28;01mlambda\u001b[39;00m order, price, quantity: price \u001b[38;5;241m*\u001b[39m quantity \u001b[38;5;241m-\u001b[39m \u001b[38;5;241m10\u001b[39m \u001b[38;5;28;01mif\u001b[39;00m price \u001b[38;5;241m*\u001b[39m quantity \u001b[38;5;241m<\u001b[39m \u001b[38;5;241m100\u001b[39m \u001b[38;5;28;01melse\u001b[39;00m price \u001b[38;5;241m*\u001b[39m quantity\n\u001b[0;32m---> 10\u001b[0m result \u001b[38;5;241m=\u001b[39m \u001b[38;5;28;43mlist\u001b[39;49m\u001b[43m(\u001b[49m\u001b[38;5;28;43mmap\u001b[39;49m\u001b[43m(\u001b[49m\u001b[38;5;28;43;01mlambda\u001b[39;49;00m\u001b[43m \u001b[49m\u001b[43mx\u001b[49m\u001b[43m:\u001b[49m\u001b[43m \u001b[49m\u001b[43m(\u001b[49m\u001b[43mx\u001b[49m\u001b[43m[\u001b[49m\u001b[38;5;241;43m0\u001b[39;49m\u001b[43m]\u001b[49m\u001b[43m,\u001b[49m\u001b[43m \u001b[49m\u001b[43mproduct\u001b[49m\u001b[43m(\u001b[49m\u001b[38;5;241;43m*\u001b[39;49m\u001b[43mx\u001b[49m\u001b[43m[\u001b[49m\u001b[38;5;241;43m3\u001b[39;49m\u001b[43m:\u001b[49m\u001b[43m]\u001b[49m\u001b[43m)\u001b[49m\u001b[43m)\u001b[49m\u001b[43m,\u001b[49m\u001b[43m \u001b[49m\u001b[38;5;28;43mmap\u001b[39;49m\u001b[43m(\u001b[49m\u001b[38;5;28;43;01mlambda\u001b[39;49;00m\u001b[43m \u001b[49m\u001b[43mx\u001b[49m\u001b[43m:\u001b[49m\u001b[43m \u001b[49m\u001b[43m(\u001b[49m\u001b[43mx\u001b[49m\u001b[43m[\u001b[49m\u001b[38;5;241;43m0\u001b[39;49m\u001b[43m]\u001b[49m\u001b[43m,\u001b[49m\u001b[43m \u001b[49m\u001b[43mx\u001b[49m\u001b[43m[\u001b[49m\u001b[38;5;241;43m2\u001b[39;49m\u001b[43m]\u001b[49m\u001b[43m,\u001b[49m\u001b[43m \u001b[49m\u001b[43mx\u001b[49m\u001b[43m[\u001b[49m\u001b[38;5;241;43m3\u001b[39;49m\u001b[43m]\u001b[49m\u001b[43m \u001b[49m\u001b[38;5;241;43m*\u001b[39;49m\u001b[43m \u001b[49m\u001b[43mx\u001b[49m\u001b[43m[\u001b[49m\u001b[38;5;241;43m4\u001b[39;49m\u001b[43m]\u001b[49m\u001b[43m)\u001b[49m\u001b[43m,\u001b[49m\u001b[43m \u001b[49m\u001b[43morders\u001b[49m\u001b[43m)\u001b[49m\u001b[43m)\u001b[49m\u001b[43m)\u001b[49m\n\u001b[1;32m     12\u001b[0m \u001b[38;5;28mprint\u001b[39m(\u001b[38;5;124m\"\u001b[39m\u001b[38;5;124mOrder Number\u001b[39m\u001b[38;5;130;01m\\t\u001b[39;00m\u001b[38;5;124mProduct\u001b[39m\u001b[38;5;124m\"\u001b[39m)\n\u001b[1;32m     13\u001b[0m \u001b[38;5;28;01mfor\u001b[39;00m order, product \u001b[38;5;129;01min\u001b[39;00m result:\n",
      "Cell \u001b[0;32mIn[8], line 10\u001b[0m, in \u001b[0;36m<lambda>\u001b[0;34m(x)\u001b[0m\n\u001b[1;32m      1\u001b[0m orders \u001b[38;5;241m=\u001b[39m [\n\u001b[1;32m      2\u001b[0m     [\u001b[38;5;241m34587\u001b[39m, \u001b[38;5;124m'\u001b[39m\u001b[38;5;124mLearning Python\u001b[39m\u001b[38;5;124m'\u001b[39m, \u001b[38;5;124m'\u001b[39m\u001b[38;5;124mMark Lutz\u001b[39m\u001b[38;5;124m'\u001b[39m, \u001b[38;5;241m4\u001b[39m, \u001b[38;5;241m45.50\u001b[39m],\n\u001b[1;32m      3\u001b[0m     [\u001b[38;5;241m98762\u001b[39m, \u001b[38;5;124m'\u001b[39m\u001b[38;5;124mProgramming Python\u001b[39m\u001b[38;5;124m'\u001b[39m, \u001b[38;5;124m'\u001b[39m\u001b[38;5;124mMark Lutz\u001b[39m\u001b[38;5;124m'\u001b[39m, \u001b[38;5;241m5\u001b[39m, \u001b[38;5;241m55.50\u001b[39m],\n\u001b[1;32m      4\u001b[0m     [\u001b[38;5;241m77226\u001b[39m, \u001b[38;5;124m'\u001b[39m\u001b[38;5;124mHead first Python\u001b[39m\u001b[38;5;124m'\u001b[39m, \u001b[38;5;124m'\u001b[39m\u001b[38;5;124mPaul Barry\u001b[39m\u001b[38;5;124m'\u001b[39m, \u001b[38;5;241m3\u001b[39m, \u001b[38;5;241m35.50\u001b[39m],\n\u001b[1;32m      5\u001b[0m     [\u001b[38;5;241m88112\u001b[39m, \u001b[38;5;124m'\u001b[39m\u001b[38;5;124mEinfuhrung in Python3\u001b[39m\u001b[38;5;124m'\u001b[39m, \u001b[38;5;124m'\u001b[39m\u001b[38;5;124mBrend Klein\u001b[39m\u001b[38;5;124m'\u001b[39m, \u001b[38;5;241m3\u001b[39m, \u001b[38;5;241m25.50\u001b[39m]\n\u001b[1;32m      6\u001b[0m ]\n\u001b[1;32m      8\u001b[0m product \u001b[38;5;241m=\u001b[39m \u001b[38;5;28;01mlambda\u001b[39;00m order, price, quantity: price \u001b[38;5;241m*\u001b[39m quantity \u001b[38;5;241m-\u001b[39m \u001b[38;5;241m10\u001b[39m \u001b[38;5;28;01mif\u001b[39;00m price \u001b[38;5;241m*\u001b[39m quantity \u001b[38;5;241m<\u001b[39m \u001b[38;5;241m100\u001b[39m \u001b[38;5;28;01melse\u001b[39;00m price \u001b[38;5;241m*\u001b[39m quantity\n\u001b[0;32m---> 10\u001b[0m result \u001b[38;5;241m=\u001b[39m \u001b[38;5;28mlist\u001b[39m(\u001b[38;5;28mmap\u001b[39m(\u001b[38;5;28;01mlambda\u001b[39;00m x: (x[\u001b[38;5;241m0\u001b[39m], \u001b[43mproduct\u001b[49m\u001b[43m(\u001b[49m\u001b[38;5;241;43m*\u001b[39;49m\u001b[43mx\u001b[49m\u001b[43m[\u001b[49m\u001b[38;5;241;43m3\u001b[39;49m\u001b[43m:\u001b[49m\u001b[43m]\u001b[49m\u001b[43m)\u001b[49m), \u001b[38;5;28mmap\u001b[39m(\u001b[38;5;28;01mlambda\u001b[39;00m x: (x[\u001b[38;5;241m0\u001b[39m], x[\u001b[38;5;241m2\u001b[39m], x[\u001b[38;5;241m3\u001b[39m] \u001b[38;5;241m*\u001b[39m x[\u001b[38;5;241m4\u001b[39m]), orders)))\n\u001b[1;32m     12\u001b[0m \u001b[38;5;28mprint\u001b[39m(\u001b[38;5;124m\"\u001b[39m\u001b[38;5;124mOrder Number\u001b[39m\u001b[38;5;130;01m\\t\u001b[39;00m\u001b[38;5;124mProduct\u001b[39m\u001b[38;5;124m\"\u001b[39m)\n\u001b[1;32m     13\u001b[0m \u001b[38;5;28;01mfor\u001b[39;00m order, product \u001b[38;5;129;01min\u001b[39;00m result:\n",
      "\u001b[0;31mTypeError\u001b[0m: <lambda>() missing 3 required positional arguments: 'order', 'price', and 'quantity'"
     ]
    }
   ],
   "source": [
    "orders = [\n",
    "    [34587, 'Learning Python', 'Mark Lutz', 4, 45.50],\n",
    "    [98762, 'Programming Python', 'Mark Lutz', 5, 55.50],\n",
    "    [77226, 'Head first Python', 'Paul Barry', 3, 35.50],\n",
    "    [88112, 'Einfuhrung in Python3', 'Brend Klein', 3, 25.50]\n",
    "]\n",
    "\n",
    "product = lambda order, price, quantity: price * quantity - 10 if price * quantity < 100 else price * quantity\n",
    "\n",
    "result = list(map(lambda x: (x[0], product(*x[3:])), map(lambda x: (x[0], x[2], x[3] * x[4]), orders)))\n",
    "\n",
    "print(\"Order Number\\tProduct\")\n",
    "for order, product in result:\n",
    "    print(order, \"\\t\", product)"
   ]
  },
  {
   "cell_type": "code",
   "execution_count": null,
   "id": "13bc2c4b-7cfe-4883-9b74-6c2cf9de77f4",
   "metadata": {},
   "outputs": [],
   "source": []
  }
 ],
 "metadata": {
  "kernelspec": {
   "display_name": "Python 3 (ipykernel)",
   "language": "python",
   "name": "python3"
  },
  "language_info": {
   "codemirror_mode": {
    "name": "ipython",
    "version": 3
   },
   "file_extension": ".py",
   "mimetype": "text/x-python",
   "name": "python",
   "nbconvert_exporter": "python",
   "pygments_lexer": "ipython3",
   "version": "3.10.8"
  }
 },
 "nbformat": 4,
 "nbformat_minor": 5
}
